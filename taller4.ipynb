{
 "cells": [
  {
   "metadata": {},
   "cell_type": "raw",
   "source": [
    "---\n",
    "title: \"taller 4\"\n",
    "lang: es\n",
    "format: \n",
    "  pdf:\n",
    "    toc: true\n",
    "    toc-title: \"Tabla de Contenidos\"  \n",
    "execute:\n",
    "  echo: true\n",
    "  error: false\n",
    "  warning: false\n",
    "code-fold: true\n",
    "jupyter: python3\n",
    "---"
   ],
   "id": "3244cd07ad12f708"
  },
  {
   "metadata": {},
   "cell_type": "markdown",
   "source": [
    "# Taller 4\n",
    "## Ajuste de curvas por mínimos cuadrados"
   ],
   "id": "6c85f5e7ccbb3224"
  },
  {
   "metadata": {
    "ExecuteTime": {
     "end_time": "2024-12-14T13:33:49.986349Z",
     "start_time": "2024-12-14T13:33:49.981106Z"
    }
   },
   "cell_type": "code",
   "source": [
    "p1 = (5.4, 3.2)\n",
    "p2_i = (9.5, 0.7)\n",
    "p3 = (12.3, -3.6)"
   ],
   "id": "364d8ebc17e7b159",
   "outputs": [],
   "execution_count": 3
  },
  {
   "metadata": {
    "ExecuteTime": {
     "end_time": "2024-12-14T13:52:34.517233Z",
     "start_time": "2024-12-14T13:52:34.292714Z"
    }
   },
   "cell_type": "code",
   "source": [
    "def update_plot(p2_x, p2_y):\n",
    "    x_coords = np.array([p1[0], p2_x, p3[0]])\n",
    "    y_coords = np.array([p1[1], p2_y, p3[1]])\n",
    "    m, b = np.polyfit(x_coords, y_coords, 1) \n",
    "    plt.figure(figsize=(10, 6))\n",
    "    plt.scatter(x_coords, y_coords, color=\"red\", label=\"Puntos\")\n",
    "    x_line = np.linspace(min(x_coords) - 1, max(x_coords) + 1, 100)\n",
    "    y_line = m * x_line + b\n",
    "    plt.plot(x_line, y_line, color=\"blue\", label=f\"Línea ajustada: y = {m:.2f}x + {b:.2f}\")\n",
    "    plt.xlabel(\"X\")\n",
    "    plt.ylabel(\"Y\")\n",
    "    plt.title(\"Ajuste por Mínimos Cuadrados\")\n",
    "    plt.legend()\n",
    "    plt.grid()\n",
    "    plt.show()\n",
    "_ = interact(update_plot, p2_x=(5.5, 12.3, 0.1), p2_y=(-10.0, 10.0, 0.1))"
   ],
   "id": "4f5bf22ee86cd423",
   "outputs": [
    {
     "data": {
      "text/plain": [
       "interactive(children=(FloatSlider(value=8.9, description='p2_x', max=12.3, min=5.5), FloatSlider(value=0.0, de…"
      ],
      "application/vnd.jupyter.widget-view+json": {
       "version_major": 2,
       "version_minor": 0,
       "model_id": "009a970beeef4645a9557777fe843476"
      }
     },
     "metadata": {},
     "output_type": "display_data"
    }
   ],
   "execution_count": 10
  },
  {
   "metadata": {},
   "cell_type": "markdown",
   "source": "Github: https://github.com/Boris-epn/Taller--04",
   "id": "7cadd185ab61f021"
  }
 ],
 "metadata": {
  "kernelspec": {
   "display_name": "Python 3",
   "language": "python",
   "name": "python3"
  },
  "language_info": {
   "codemirror_mode": {
    "name": "ipython",
    "version": 2
   },
   "file_extension": ".py",
   "mimetype": "text/x-python",
   "name": "python",
   "nbconvert_exporter": "python",
   "pygments_lexer": "ipython2",
   "version": "2.7.6"
  }
 },
 "nbformat": 4,
 "nbformat_minor": 5
}
